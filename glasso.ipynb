{
 "cells": [
  {
   "cell_type": "code",
   "execution_count": 21,
   "metadata": {},
   "outputs": [],
   "source": [
    "import pandas as pd\n",
    "import numpy as np\n",
    "import matplotlib.pyplot as plt\n",
    "\n",
    "from scipy import stats\n",
    "from sklearn.preprocessing import StandardScaler\n",
    "from sklearn.covariance import GraphicalLassoCV"
   ]
  },
  {
   "cell_type": "code",
   "execution_count": 22,
   "metadata": {},
   "outputs": [
    {
     "data": {
      "text/html": [
       "<div>\n",
       "<style scoped>\n",
       "    .dataframe tbody tr th:only-of-type {\n",
       "        vertical-align: middle;\n",
       "    }\n",
       "\n",
       "    .dataframe tbody tr th {\n",
       "        vertical-align: top;\n",
       "    }\n",
       "\n",
       "    .dataframe thead th {\n",
       "        text-align: right;\n",
       "    }\n",
       "</style>\n",
       "<table border=\"1\" class=\"dataframe\">\n",
       "  <thead>\n",
       "    <tr style=\"text-align: right;\">\n",
       "      <th></th>\n",
       "      <th>V1</th>\n",
       "      <th>V2</th>\n",
       "      <th>V3</th>\n",
       "      <th>V4</th>\n",
       "      <th>V5</th>\n",
       "      <th>V6</th>\n",
       "      <th>V7</th>\n",
       "      <th>V8</th>\n",
       "      <th>V9</th>\n",
       "      <th>V10</th>\n",
       "      <th>...</th>\n",
       "      <th>V29</th>\n",
       "      <th>V30</th>\n",
       "      <th>V31</th>\n",
       "      <th>V32</th>\n",
       "      <th>V33</th>\n",
       "      <th>V34</th>\n",
       "      <th>V35</th>\n",
       "      <th>V36</th>\n",
       "      <th>V37</th>\n",
       "      <th>V38</th>\n",
       "    </tr>\n",
       "    <tr>\n",
       "      <th>date</th>\n",
       "      <th></th>\n",
       "      <th></th>\n",
       "      <th></th>\n",
       "      <th></th>\n",
       "      <th></th>\n",
       "      <th></th>\n",
       "      <th></th>\n",
       "      <th></th>\n",
       "      <th></th>\n",
       "      <th></th>\n",
       "      <th></th>\n",
       "      <th></th>\n",
       "      <th></th>\n",
       "      <th></th>\n",
       "      <th></th>\n",
       "      <th></th>\n",
       "      <th></th>\n",
       "      <th></th>\n",
       "      <th></th>\n",
       "      <th></th>\n",
       "      <th></th>\n",
       "    </tr>\n",
       "  </thead>\n",
       "  <tbody>\n",
       "    <tr>\n",
       "      <th>D-5/3/90</th>\n",
       "      <td>35023</td>\n",
       "      <td>3.5</td>\n",
       "      <td>7.9</td>\n",
       "      <td>205</td>\n",
       "      <td>588</td>\n",
       "      <td>192</td>\n",
       "      <td>65.6</td>\n",
       "      <td>4.5</td>\n",
       "      <td>2430</td>\n",
       "      <td>7.8</td>\n",
       "      <td>...</td>\n",
       "      <td>1840</td>\n",
       "      <td>33.1</td>\n",
       "      <td>64.2</td>\n",
       "      <td>95.3</td>\n",
       "      <td>87.3</td>\n",
       "      <td>72.3</td>\n",
       "      <td>90.2</td>\n",
       "      <td>82.3</td>\n",
       "      <td>89.6</td>\n",
       "      <td>100.0</td>\n",
       "    </tr>\n",
       "    <tr>\n",
       "      <th>D-11/3/90</th>\n",
       "      <td>29156</td>\n",
       "      <td>2.5</td>\n",
       "      <td>7.7</td>\n",
       "      <td>206</td>\n",
       "      <td>451</td>\n",
       "      <td>194</td>\n",
       "      <td>69.1</td>\n",
       "      <td>4.5</td>\n",
       "      <td>1249</td>\n",
       "      <td>7.7</td>\n",
       "      <td>...</td>\n",
       "      <td>1338</td>\n",
       "      <td>46.1</td>\n",
       "      <td>43.6</td>\n",
       "      <td>92.5</td>\n",
       "      <td>85.6</td>\n",
       "      <td>58.2</td>\n",
       "      <td>92.2</td>\n",
       "      <td>73.8</td>\n",
       "      <td>90.2</td>\n",
       "      <td>99.4</td>\n",
       "    </tr>\n",
       "    <tr>\n",
       "      <th>D-12/3/90</th>\n",
       "      <td>39246</td>\n",
       "      <td>2.0</td>\n",
       "      <td>7.8</td>\n",
       "      <td>172</td>\n",
       "      <td>506</td>\n",
       "      <td>200</td>\n",
       "      <td>69.0</td>\n",
       "      <td>5.0</td>\n",
       "      <td>1865</td>\n",
       "      <td>7.8</td>\n",
       "      <td>...</td>\n",
       "      <td>1616</td>\n",
       "      <td>21.2</td>\n",
       "      <td>59.7</td>\n",
       "      <td>90.8</td>\n",
       "      <td>88.4</td>\n",
       "      <td>66.1</td>\n",
       "      <td>89.0</td>\n",
       "      <td>69.0</td>\n",
       "      <td>86.5</td>\n",
       "      <td>99.6</td>\n",
       "    </tr>\n",
       "    <tr>\n",
       "      <th>D-13/3/90</th>\n",
       "      <td>42393</td>\n",
       "      <td>0.7</td>\n",
       "      <td>7.9</td>\n",
       "      <td>189</td>\n",
       "      <td>478</td>\n",
       "      <td>230</td>\n",
       "      <td>67.0</td>\n",
       "      <td>5.5</td>\n",
       "      <td>1410</td>\n",
       "      <td>8.1</td>\n",
       "      <td>...</td>\n",
       "      <td>1575</td>\n",
       "      <td>0.6</td>\n",
       "      <td>45.8</td>\n",
       "      <td>92.0</td>\n",
       "      <td>11.6</td>\n",
       "      <td>25.7</td>\n",
       "      <td>19.6</td>\n",
       "      <td>36.0</td>\n",
       "      <td>43.0</td>\n",
       "      <td>36.4</td>\n",
       "    </tr>\n",
       "    <tr>\n",
       "      <th>D-18/3/90</th>\n",
       "      <td>40923</td>\n",
       "      <td>3.5</td>\n",
       "      <td>7.6</td>\n",
       "      <td>146</td>\n",
       "      <td>329</td>\n",
       "      <td>188</td>\n",
       "      <td>57.4</td>\n",
       "      <td>2.5</td>\n",
       "      <td>1300</td>\n",
       "      <td>7.6</td>\n",
       "      <td>...</td>\n",
       "      <td>1545</td>\n",
       "      <td>32.7</td>\n",
       "      <td>33.3</td>\n",
       "      <td>90.0</td>\n",
       "      <td>82.6</td>\n",
       "      <td>61.3</td>\n",
       "      <td>87.0</td>\n",
       "      <td>71.4</td>\n",
       "      <td>78.2</td>\n",
       "      <td>99.2</td>\n",
       "    </tr>\n",
       "  </tbody>\n",
       "</table>\n",
       "<p>5 rows × 38 columns</p>\n",
       "</div>"
      ],
      "text/plain": [
       "              V1   V2   V3   V4   V5   V6    V7   V8    V9  V10  ...   V29  \\\n",
       "date                                                             ...         \n",
       "D-5/3/90   35023  3.5  7.9  205  588  192  65.6  4.5  2430  7.8  ...  1840   \n",
       "D-11/3/90  29156  2.5  7.7  206  451  194  69.1  4.5  1249  7.7  ...  1338   \n",
       "D-12/3/90  39246  2.0  7.8  172  506  200  69.0  5.0  1865  7.8  ...  1616   \n",
       "D-13/3/90  42393  0.7  7.9  189  478  230  67.0  5.5  1410  8.1  ...  1575   \n",
       "D-18/3/90  40923  3.5  7.6  146  329  188  57.4  2.5  1300  7.6  ...  1545   \n",
       "\n",
       "            V30   V31   V32   V33   V34   V35   V36   V37    V38  \n",
       "date                                                              \n",
       "D-5/3/90   33.1  64.2  95.3  87.3  72.3  90.2  82.3  89.6  100.0  \n",
       "D-11/3/90  46.1  43.6  92.5  85.6  58.2  92.2  73.8  90.2   99.4  \n",
       "D-12/3/90  21.2  59.7  90.8  88.4  66.1  89.0  69.0  86.5   99.6  \n",
       "D-13/3/90   0.6  45.8  92.0  11.6  25.7  19.6  36.0  43.0   36.4  \n",
       "D-18/3/90  32.7  33.3  90.0  82.6  61.3  87.0  71.4  78.2   99.2  \n",
       "\n",
       "[5 rows x 38 columns]"
      ]
     },
     "execution_count": 22,
     "metadata": {},
     "output_type": "execute_result"
    }
   ],
   "source": [
    "df = pd.read_csv('C:\\\\Users\\\\kasariku\\\\pro\\\\false_detection\\\\watertreatment_mod.csv', encoding='shift_jis', header=0, index_col=0)\n",
    "TimeIndices = df.index\n",
    "df.head()"
   ]
  },
  {
   "cell_type": "code",
   "execution_count": 23,
   "metadata": {},
   "outputs": [],
   "source": [
    "split_point = 100\n",
    "offset = 10\n",
    "train_df = df.iloc[offset:offset+split_point,]\n",
    "test_df = df.iloc[offset+split_point:offset+split_point*2,]\n",
    "# print(train_df)\n",
    "print(test_df)"
   ]
  },
  {
   "cell_type": "code",
   "execution_count": 24,
   "metadata": {},
   "outputs": [
    {
     "name": "stdout",
     "output_type": "stream",
     "text": [
      "            V1    V2   V3   V4   V5   V6    V7   V8    V9  V10  ...   V29  \\\n",
      "date                                                            ...         \n",
      "D-2/7/90     5  0.75  8.1  187  488  216  55.6  6.5  2440  8.0  ...  2190   \n",
      "D-3/7/90     9  3.50  7.6  131  436  476  27.7  4.5  1603  7.8  ...  1625   \n",
      "D-4/7/90     9  1.25  7.7  145  382  168  54.8  3.5  1814  7.9  ...  1879   \n",
      "D-5/7/90     3  0.90  7.7  156  391  156  53.8  3.5  1358  7.8  ...  1425   \n",
      "D-6/7/90     5  0.80  7.7  176  422  176  61.4  4.0  2200  7.7  ...  2140   \n",
      "...         ..   ...  ...  ...  ...  ...   ...  ...   ...  ...  ...   ...   \n",
      "D-8/10/90    8  2.70  7.9  122  287  168  50.0  2.0  1906  7.8  ...  1425   \n",
      "D-9/10/90    0  1.30  8.0   90  271  144  66.7  4.5  1221  8.0  ...  1283   \n",
      "D-10/10/90   5  1.25  8.0  169  327  126  68.3  2.5  1940  8.1  ...  1891   \n",
      "D-12/10/90   2  4.80  8.0  140  555  282  45.4  6.5   850  8.0  ...   882   \n",
      "D-14/10/90   0  0.80  7.9  155  243  210  47.6  2.5   848  7.9  ...   898   \n",
      "\n",
      "             V30   V31   V32   V33   V34   V35   V36   V37    V38  \n",
      "date                                                               \n",
      "D-2/7/90    31.9  73.8  96.0  78.5  73.7  85.0  83.6  90.3  100.0  \n",
      "D-3/7/90    24.5  81.3  98.0  88.6  66.5  90.1  79.4  96.6  100.0  \n",
      "D-4/7/90    37.2  62.0  95.0  86.7  67.5  89.7  77.0  91.1  100.0  \n",
      "D-5/7/90    28.0  61.6  91.7  90.5  69.8  92.9  78.0  91.0  100.0  \n",
      "D-6/7/90    31.8  63.3  91.4  88.3  70.1  92.0  80.6  90.9  100.0  \n",
      "...          ...   ...   ...   ...   ...   ...   ...   ...    ...  \n",
      "D-8/10/90   36.9  51.1  92.5  87.9  78.3  90.2  85.0  90.5   97.5  \n",
      "D-9/10/90   29.1  54.9  95.0  87.2  77.1  88.9  84.9  90.3   98.9  \n",
      "D-10/10/90  38.4  56.7  92.0  85.8  65.8  91.1  71.6  86.5   99.2  \n",
      "D-12/10/90  67.2  63.5  94.3  84.1  53.1  95.0  86.5  96.5   99.7  \n",
      "D-14/10/90  47.6  46.4  83.3  89.9  73.7  94.2  85.6  94.3   99.2  \n",
      "\n",
      "[100 rows x 38 columns]\n"
     ]
    }
   ],
   "source": [
    "# # 置き換えたい行のインデックスのリスト\n",
    "# test_df[test_df.columns[0]] = np.random.randint(0, 10, size=len(test_df))\n",
    "# # print(train_df)\n",
    "# print(test_df)"
   ]
  },
  {
   "cell_type": "code",
   "execution_count": 25,
   "metadata": {},
   "outputs": [],
   "source": [
    "def standardize(_df):\n",
    "    sc = StandardScaler()\n",
    "    sc.fit(_df)\n",
    "    df_std = sc.transform(test_df)\n",
    "    return df_std"
   ]
  },
  {
   "cell_type": "code",
   "execution_count": 26,
   "metadata": {},
   "outputs": [
    {
     "name": "stdout",
     "output_type": "stream",
     "text": [
      "[[-6.65833807 -0.68977011  1.60027484 ...  0.81059018  0.47696112\n",
      "   0.26640767]\n",
      " [-6.65766373  0.60900962 -1.01455333 ...  0.34074768  1.31912903\n",
      "   0.26640767]\n",
      " [-6.65766373 -0.45362834 -0.49158769 ...  0.07226625  0.58390308\n",
      "   0.26640767]\n",
      " ...\n",
      " [-6.65833807 -0.45362834  1.0773092  ... -0.53181697 -0.03101317\n",
      "   0.08609791]\n",
      " [-6.65884383  1.22297822  1.0773092  ...  1.13500525  1.30576128\n",
      "   0.19879151]\n",
      " [-6.659181   -0.66615593  0.55434357 ...  1.03432471  1.0116709\n",
      "   0.08609791]]\n",
      "[[ 0.20883288 -0.63788094  0.89740924 ...  0.68768774 -0.19390051\n",
      "   0.65961511]\n",
      " [ 1.62464899  0.45957438 -1.02836166 ...  0.11495554  1.29400837\n",
      "   0.65961511]\n",
      " [ 1.62464899 -0.43834361 -0.64320748 ... -0.21232001 -0.0049597\n",
      "   0.65961511]\n",
      " ...\n",
      " [ 0.20883288 -0.43834361  0.51225506 ... -0.94868999 -1.09136935\n",
      "  -0.71101369]\n",
      " [-0.85302921  0.97837144  0.51225506 ...  1.0831457   1.27039077\n",
      "   0.14562931]\n",
      " [-1.56093726 -0.61792721  0.12710088 ...  0.96041737  0.75080354\n",
      "  -0.71101369]]\n"
     ]
    }
   ],
   "source": [
    "train_df_std = standardize(train_df)\n",
    "test_df_std = standardize(test_df)\n",
    "print(train_df_std)\n",
    "print(test_df_std)"
   ]
  },
  {
   "cell_type": "code",
   "execution_count": 27,
   "metadata": {},
   "outputs": [
    {
     "name": "stdout",
     "output_type": "stream",
     "text": [
      "(38, 38)\n",
      "(38, 38)\n"
     ]
    }
   ],
   "source": [
    "train_cov = np.cov(train_df_std, rowvar=False)\n",
    "test_cov = np.cov(test_df_std, rowvar=False)\n",
    "print(train_cov.shape)\n",
    "print(test_cov.shape)"
   ]
  },
  {
   "cell_type": "code",
   "execution_count": 28,
   "metadata": {},
   "outputs": [],
   "source": [
    "def glasso_cov_prec_(array):\n",
    "    model = GraphicalLassoCV()\n",
    "    model.fit(array)\n",
    "    cov_ = model.covariance_\n",
    "    prec_ = model.precision_\n",
    "    return cov_, prec_"
   ]
  },
  {
   "cell_type": "code",
   "execution_count": 29,
   "metadata": {},
   "outputs": [
    {
     "name": "stderr",
     "output_type": "stream",
     "text": [
      "c:\\Users\\kasariku\\AppData\\Local\\Programs\\Python\\Python310\\lib\\site-packages\\sklearn\\covariance\\_graph_lasso.py:167: RuntimeWarning: invalid value encountered in multiply\n",
      "  precision_[indices != idx, idx] = -precision_[idx, idx] * coefs\n",
      "c:\\Users\\kasariku\\AppData\\Local\\Programs\\Python\\Python310\\lib\\site-packages\\sklearn\\covariance\\_graph_lasso.py:168: RuntimeWarning: invalid value encountered in multiply\n",
      "  precision_[idx, indices != idx] = -precision_[idx, idx] * coefs\n",
      "c:\\Users\\kasariku\\AppData\\Local\\Programs\\Python\\Python310\\lib\\site-packages\\numpy\\core\\_methods.py:232: RuntimeWarning: invalid value encountered in subtract\n",
      "  x = asanyarray(arr - arrmean)\n"
     ]
    },
    {
     "name": "stdout",
     "output_type": "stream",
     "text": [
      "(38, 38)\n",
      "(38, 38)\n"
     ]
    },
    {
     "name": "stderr",
     "output_type": "stream",
     "text": [
      "c:\\Users\\kasariku\\AppData\\Local\\Programs\\Python\\Python310\\lib\\site-packages\\numpy\\core\\_methods.py:232: RuntimeWarning: invalid value encountered in subtract\n",
      "  x = asanyarray(arr - arrmean)\n"
     ]
    }
   ],
   "source": [
    "train_cov_, train_prec_ = glasso_cov_prec_(train_df_std)\n",
    "test_cov_, test_prec_ = glasso_cov_prec_(test_df_std)\n",
    "print(test_cov_.shape)\n",
    "print(test_prec_.shape)"
   ]
  },
  {
   "cell_type": "code",
   "execution_count": 30,
   "metadata": {},
   "outputs": [
    {
     "name": "stdout",
     "output_type": "stream",
     "text": [
      "[2226326.496639404, 0.3707268336579873, 0.37631108311104244, 0.24616748252786066, 0.9185587985704127, 0.41977822488030286, 0.17720187076516306, 1.848908833938952, 0.7177447095048011, 0.5120681977911454, 0.20446874202676013, 0.3237442432611095, 0.025187140928249238, 1.631944243189709, 0.752518190340361, 0.61668976222091, 0.3457585887856441, 0.35053228267481107, 0.3519984869830504, 0.5698671668870219, 0.7363280992467777, 1.2790863413551974, 0.5964479418162767, 0.6807228873186717, 0.7412605942477355, 1.8495989478268196, 0.42743948128842646, 42.80833795822759, 1.2188972343745432, 0.2062154308425674, 0.21729770212846716, 0.06533520105614832, 0.3981761901204799, 0.040113638255580286, 0.03078383271877659, 0.43384354707588224, 1.7809819409027359, 30.98992165810108]\n"
     ]
    }
   ],
   "source": [
    "a = [0] * test_cov_.shape[0]\n",
    "b1 = np.matmul(np.matmul(train_prec_, train_cov), train_prec_)\n",
    "b2 = np.matmul(np.matmul(test_prec_, train_cov), test_prec_)\n",
    "c1 = np.matmul(np.matmul(train_prec_, test_cov), train_prec_)\n",
    "c2 = np.matmul(np.matmul(test_prec_, test_cov), test_prec_)\n",
    "for i in range(test_cov_.shape[0]):\n",
    "    v1 = 1 / 2 * np.log(train_cov_[i, i] / test_cov_[i, i]) - 1 / 2 * (b1[i, i] / train_prec_[i, i] - b2[i, i] / test_prec_[i, i])\n",
    "    v2 = 1 / 2 * np.log(test_cov_[i, i] / train_cov_[i, i]) - 1 / 2 * (c2[i, i] / test_prec_[i, i] - c1[i, i] / train_prec_[i, i])\n",
    "    a[i] = max(v1, v2)\n",
    "print(a)"
   ]
  },
  {
   "cell_type": "code",
   "execution_count": null,
   "metadata": {},
   "outputs": [],
   "source": []
  }
 ],
 "metadata": {
  "kernelspec": {
   "display_name": "Python 3",
   "language": "python",
   "name": "python3"
  },
  "language_info": {
   "codemirror_mode": {
    "name": "ipython",
    "version": 3
   },
   "file_extension": ".py",
   "mimetype": "text/x-python",
   "name": "python",
   "nbconvert_exporter": "python",
   "pygments_lexer": "ipython3",
   "version": "3.10.0"
  }
 },
 "nbformat": 4,
 "nbformat_minor": 2
}
